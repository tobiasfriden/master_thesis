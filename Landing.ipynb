{
 "cells": [
  {
   "cell_type": "code",
   "execution_count": 45,
   "metadata": {},
   "outputs": [],
   "source": [
    "import matplotlib.pyplot as plt\n",
    "import matplotlib.patches as patches\n",
    "import matplotlib.transforms as transforms\n",
    "import numpy as np\n",
    "import casadi as ca"
   ]
  },
  {
   "cell_type": "code",
   "execution_count": 2,
   "metadata": {},
   "outputs": [],
   "source": [
    "from lib.control import *"
   ]
  },
  {
   "cell_type": "code",
   "execution_count": 319,
   "metadata": {},
   "outputs": [],
   "source": [
    "def xy_heading(pos1, pos2):\n",
    "    diff = pos2 - pos1\n",
    "    return wrap_angle_360(np.degrees(np.arctan2(diff[1], diff[0])))"
   ]
  },
  {
   "cell_type": "code",
   "execution_count": 327,
   "metadata": {},
   "outputs": [],
   "source": [
    "def wrap_angle_360(angle):\n",
    "    if angle < 0:\n",
    "        angle += 360\n",
    "    return angle % 360"
   ]
  },
  {
   "cell_type": "code",
   "execution_count": 495,
   "metadata": {},
   "outputs": [],
   "source": [
    "class LandingArea:\n",
    "    def __init__(\n",
    "        self,\n",
    "        origin=[0, 0],\n",
    "        width=10,\n",
    "        height=10,\n",
    "        rot=0,\n",
    "        wind_spd=0,\n",
    "        wind_dir=0,\n",
    "        airspeed=14,\n",
    "        flare_sink=1,\n",
    "        max_sink=4,\n",
    "        init_h=40,\n",
    "        flare_h=3,\n",
    "        safety_h=20\n",
    "    ):\n",
    "        self.origin = np.array(origin)\n",
    "        self.width = width\n",
    "        self.height = height\n",
    "        self.rot = rot\n",
    "        self.wind_spd = wind_spd\n",
    "        self.wind_dir = wind_dir\n",
    "        self.airspeed=airspeed\n",
    "        self.flare_sink = flare_sink\n",
    "        self.max_sink = max_sink\n",
    "        self.init_h = init_h\n",
    "        self.flare_h = flare_h\n",
    "        self.safety_h = safety_h\n",
    "        \n",
    "        rot_rad = np.radians(rot)\n",
    "        self.width_dir = np.array([np.cos(rot_rad), np.sin(rot_rad)])\n",
    "        self.height_dir = np.array([-np.sin(rot_rad), np.cos(rot_rad)])\n",
    "        self.center = self.origin + self.width/2*self.width_dir\n",
    "        self.center += self.height/2*self.height_dir\n",
    "        \n",
    "        origin_hdg = xy_heading(self.origin, self.center)\n",
    "        h_corner = self.origin + self.height*self.height_dir\n",
    "        h_corner_hdg = xy_heading(h_corner, self.center)\n",
    "        if h_corner_hdg > origin_hdg:\n",
    "            self.h_hdg_interval = [origin_hdg, h_corner_hdg]\n",
    "        else:\n",
    "            self.h_hdg_interval = [h_corner_hdg, origin_hdg]\n",
    "            \n",
    "        self.includes_360 = False\n",
    "        if self.h_hdg_interval[1] - self.h_hdg_interval[0] > 90:\n",
    "            self.includes_360 = True\n",
    "    \n",
    "    def _height_collision(self, hdg):\n",
    "        inv_hdg = wrap_angle_360(hdg+180)\n",
    "        interval = self.h_hdg_interval\n",
    "        if self.includes_360:\n",
    "            return (hdg < interval[0] or hdg > interval[1]) or (inv_hdg < interval[0] or inv_hdg > interval[1])\n",
    "        else:\n",
    "            return (hdg > interval[0] and hdg < interval[1]) or (inv_hdg > interval[0] and inv_hdg < interval[1])\n",
    "    \n",
    "    def _hdg_line(self, hdg):\n",
    "        hdg_rad = np.radians(hdg)\n",
    "        return [self.center, self.center + np.array([np.cos(hdg_rad), np.sin(hdg_rad)])]\n",
    "    \n",
    "    def _height_lines(self):\n",
    "        l1 = [\n",
    "            self.origin,\n",
    "            self.origin + self.height*self.height_dir\n",
    "        ]\n",
    "        l2 = [\n",
    "            self.origin + self.width*self.width_dir,\n",
    "            self.origin + self.width*self.width_dir + self.height*self.height_dir\n",
    "        ]\n",
    "        return l1, l2\n",
    "        \n",
    "    def _width_lines(self):\n",
    "        l1 = [\n",
    "            self.origin,\n",
    "            self.origin + self.width*self.width_dir\n",
    "        ]\n",
    "        l2 = [\n",
    "            self.origin + self.height*self.height_dir,\n",
    "            self.origin + self.width*self.width_dir + self.height*self.height_dir\n",
    "        ]\n",
    "        return l1, l2\n",
    "    \n",
    "    def _intersection(self, l1, l2):\n",
    "        pa, pb = l1\n",
    "        pc, pd = l2\n",
    "        \n",
    "        a1 = pb[1] - pa[1]\n",
    "        b1 = pa[0] - pb[0]\n",
    "        c1 = a1*pa[0] + b1*pa[1]\n",
    "        \n",
    "        a2 = pd[1] - pc[1]\n",
    "        b2 = pc[0] - pd[0]\n",
    "        c2 = a2*pc[0] + b2*pc[1]\n",
    "        \n",
    "        det = a1*b2 - b1*a2\n",
    "        if det == 0:\n",
    "            print(\"error: parallel lines!\")\n",
    "            return\n",
    "        x = (b2*c1 - b1*c2)/det\n",
    "        y = (a1*c2 - a2*c1)/det\n",
    "        return np.array([x, y])\n",
    "    \n",
    "    def plot(self, ax=None):\n",
    "        if ax is None:\n",
    "            _, ax = plt.subplots()\n",
    "        patch = patches.Rectangle(\n",
    "            (self.origin[0],self.origin[1]),\n",
    "            self.width,\n",
    "            self.height,\n",
    "            self.rot,\n",
    "            fill=False\n",
    "        )\n",
    "        ax.add_patch(patch)\n",
    "        ax.scatter(self.center[0], self.center[1])\n",
    "        ax.set_xlim([-20, 20])\n",
    "        ax.set_ylim([-20, 20])\n",
    "        ax.axis('equal')\n",
    "        \n",
    "    def plot_intersections(self, hdg, ax=None):\n",
    "        if ax is None:\n",
    "            _, ax = plt.subplots()\n",
    "        p1, p2 = self.intersection_points(hdg)\n",
    "        ax.scatter([p1[0], p2[0]], [p1[1], p2[1]], color='green')\n",
    "        \n",
    "    def groundspeed(self, hdg):\n",
    "        hdg_rad = np.radians(hdg)\n",
    "        wind_dir_rad = np.radians(self.wind_dir)\n",
    "        wca = -np.arcsin(self.wind_spd/self.airspeed*np.sin(wind_dir_rad - hdg_rad)) + hdg_rad\n",
    "        airspeed_vec = self.airspeed*np.array([np.cos(wca), np.sin(wca)])\n",
    "        wind_vec = self.wind_spd*np.array([np.cos(wind_dir_rad), np.sin(wind_dir_rad)])\n",
    "        return norm(airspeed_vec + wind_vec)\n",
    "    \n",
    "    def intersection_points(self, hdg):\n",
    "        if self._height_collision(hdg):\n",
    "            l1, l2 = self._height_lines()\n",
    "        else:\n",
    "            l1, l2 = self._width_lines()\n",
    "        hdg_line = self._hdg_line(hdg)\n",
    "        p1 = self._intersection(hdg_line, l1)\n",
    "        p2 = self._intersection(hdg_line, l2)\n",
    "        return p1, p2\n",
    "    \n",
    "    def feasible_heading(self, hdg):\n",
    "        v = self.groundspeed(hdg)\n",
    "        flare_dist = self.flare_h*v/self.flare_sink\n",
    "        print('flare dist: {}'.format(flare_dist))\n",
    "        approach_dist = (self.safety_h - self.flare_h)*v/self.max_sink\n",
    "        print('approach: {}'.format(approach_dist))\n",
    "        p1, p2 = self.intersection_points(hdg)\n",
    "        max_dist = norm(p1-p2)\n",
    "        print('total: {}'.format(flare_dist + approach_dist))\n",
    "        print('max: {}'.format(max_dist))\n",
    "        return flare_dist + approach_dist < max_dist\n",
    "    \n",
    "    def opti_params(self, hdg):\n",
    "        v = self.groundspeed(hdg)\n",
    "        p1, p2 = self.intersection_points(hdg)\n",
    "        h_s = self.safety_h - self.flare_h\n",
    "        h_0 = self.init_h - self.flare_h\n",
    "        R_flare = self.flare_h*v/self.flare_sink\n",
    "        R_c = norm(p1 - self.center)\n",
    "        v_z_max = self.max_sink\n",
    "        return {\n",
    "            'v': v,\n",
    "            'h_s': h_s,\n",
    "            'h_0': h_0,\n",
    "            'R_f': R_flare,\n",
    "            'R_c': R_c,\n",
    "            'v_z_max': v_z_max\n",
    "        }"
   ]
  },
  {
   "cell_type": "code",
   "execution_count": 503,
   "metadata": {},
   "outputs": [
    {
     "name": "stdout",
     "output_type": "stream",
     "text": [
      "flare dist: 57.0\n",
      "approach: 80.75\n",
      "total: 137.75\n",
      "max: 100.0\n",
      "False\n"
     ]
    },
    {
     "data": {
      "image/png": "[encoded data removed]",
      "text/plain": [
       "<Figure size 432x288 with 1 Axes>"
      ]
     },
     "metadata": {
      "needs_background": "light"
     },
     "output_type": "display_data"
    }
   ],
   "source": [
    "la = LandingArea(\n",
    "    origin=[0, 0],\n",
    "    width=100,\n",
    "    height=50,\n",
    "    rot=0,\n",
    "    wind_spd=5,\n",
    "    wind_dir=0\n",
    ")\n",
    "_, ax = plt.subplots()\n",
    "hdg=0\n",
    "la.plot_intersections(hdg, ax)\n",
    "la.plot(ax)\n",
    "print(la.feasible_heading(hdg))"
   ]
  },
  {
   "cell_type": "code",
   "execution_count": 497,
   "metadata": {},
   "outputs": [],
   "source": [
    "params = la.opti_params(150)\n",
    "opti = ca.Opti()\n",
    "R_a = opti.variable()\n",
    "R_b = opti.variable()\n",
    "\n",
    "opti.subject_to(R_a >= 0)\n",
    "opti.subject_to(R_b >= 0)\n",
    "vz = params['h_0']*params['v']/(R_a - R_b - params['R_f'])\n",
    "opti.subject_to(vz <= params['v_z_max'])\n",
    "crossing_h = (R_a-2*params['R_c'])*vz/params['v']\n",
    "opti.subject_to(crossing_h <= .75*params['h_s'])\n",
    "\n",
    "opti.set_initial(R_a, 100)\n",
    "opti.set_initial(R_b, 50)\n",
    "\n",
    "opti.minimize((R_b-params['R_c'])**2)"
   ]
  },
  {
   "cell_type": "code",
   "execution_count": 498,
   "metadata": {},
   "outputs": [
    {
     "name": "stdout",
     "output_type": "stream",
     "text": [
      "This is Ipopt version 3.12.3, running with linear solver mumps.\n",
      "NOTE: Other linear solvers might be more efficient (see Ipopt documentation).\n",
      "\n",
      "Number of nonzeros in equality constraint Jacobian...:        0\n",
      "Number of nonzeros in inequality constraint Jacobian.:        6\n",
      "Number of nonzeros in Lagrangian Hessian.............:        3\n",
      "\n",
      "Total number of variables............................:        2\n",
      "                     variables with only lower bounds:        0\n",
      "                variables with lower and upper bounds:        0\n",
      "                     variables with only upper bounds:        0\n",
      "Total number of equality constraints.................:        0\n",
      "Total number of inequality constraints...............:        4\n",
      "        inequality constraints with only lower bounds:        2\n",
      "   inequality constraints with lower and upper bounds:        0\n",
      "        inequality constraints with only upper bounds:        2\n",
      "\n",
      "iter    objective    inf_pr   inf_du lg(mu)  ||d||  lg(rg) alpha_du alpha_pr  ls\n",
      "   0  1.1359597e-26 1.21e+01 1.04e-01  -1.0 0.00e+00    -  0.00e+00 0.00e+00   0\n",
      "   1  3.1003815e-01 7.80e+00 7.33e-01  -1.0 2.59e+01    -  8.60e-01 4.87e-01h  1\n",
      "   2  1.6157056e+00 7.31e+00 3.81e+01  -1.0 1.03e+01    -  1.00e+00 6.93e-02h  1\n",
      "   3  1.2827137e+02 3.36e+00 1.00e+01  -1.0 1.21e+01    -  1.00e+00 8.28e-01h  1\n",
      "   4  2.2727074e+02 2.52e+00 1.51e+02  -1.0 1.32e+01    -  1.00e+00 2.85e-01h  1\n",
      "   5  7.6573413e+02 7.01e-01 1.49e+01  -1.0 1.26e+01    -  1.00e+00 1.00e+00h  1\n",
      "   6  1.0430035e+03 2.65e-01 1.39e+02  -1.0 6.74e+00    -  1.00e+00 6.86e-01h  1\n",
      "   7  1.2525881e+03 1.54e-02 1.48e+00  -1.0 3.10e+00    -  1.00e+00 1.00e+00h  1\n",
      "   8  1.2669086e+03 4.34e-05 1.34e-02  -1.7 2.02e-01    -  1.00e+00 1.00e+00h  1\n",
      "   9  1.2669299e+03 0.00e+00 2.55e-07  -3.8 6.51e-04    -  1.00e+00 1.00e+00h  1\n",
      "iter    objective    inf_pr   inf_du lg(mu)  ||d||  lg(rg) alpha_du alpha_pr  ls\n",
      "  10  1.2669296e+03 0.00e+00 1.85e-11  -5.7 4.10e-06    -  1.00e+00 1.00e+00f  1\n",
      "  11  1.2669296e+03 0.00e+00 2.84e-14  -8.6 5.18e-08    -  1.00e+00 1.00e+00f  1\n",
      "\n",
      "Number of Iterations....: 11\n",
      "\n",
      "                                   (scaled)                 (unscaled)\n",
      "Objective...............:   1.2669296272146571e+03    1.2669296272146571e+03\n",
      "Dual infeasibility......:   2.8421709430404007e-14    2.8421709430404007e-14\n",
      "Constraint violation....:   0.0000000000000000e+00    0.0000000000000000e+00\n",
      "Complementarity.........:   2.5062029809607011e-09    2.5062029809607011e-09\n",
      "Overall NLP error.......:   8.4445488767124202e-10    2.5062029809607011e-09\n",
      "\n",
      "\n",
      "Number of objective function evaluations             = 12\n",
      "Number of objective gradient evaluations             = 12\n",
      "Number of equality constraint evaluations            = 0\n",
      "Number of inequality constraint evaluations          = 12\n",
      "Number of equality constraint Jacobian evaluations   = 0\n",
      "Number of inequality constraint Jacobian evaluations = 12\n",
      "Number of Lagrangian Hessian evaluations             = 11\n",
      "Total CPU secs in IPOPT (w/o function evaluations)   =      0.009\n",
      "Total CPU secs in NLP function evaluations           =      0.001\n",
      "\n",
      "EXIT: Optimal Solution Found.\n",
      "               t_proc [s]   t_wall [s]    n_eval\n",
      "       nlp_f      3.1e-05      3.2e-05        12\n",
      "       nlp_g      7.9e-05      7.5e-05        12\n",
      "  nlp_grad_f      4.9e-05      4.6e-05        13\n",
      "  nlp_hess_l     0.000105     0.000109        11\n",
      "   nlp_jac_g        8e-05      7.6e-05        13\n",
      "      solver       0.0134       0.0115         1\n"
     ]
    }
   ],
   "source": [
    "opti.solver('ipopt')\n",
    "sol = opti.solve()"
   ]
  },
  {
   "cell_type": "code",
   "execution_count": 499,
   "metadata": {},
   "outputs": [
    {
     "data": {
      "text/plain": [
       "12.750000127485093"
      ]
     },
     "execution_count": 499,
     "metadata": {},
     "output_type": "execute_result"
    }
   ],
   "source": [
    "opti.value(crossing_h)"
   ]
  },
  {
   "cell_type": "code",
   "execution_count": 500,
   "metadata": {},
   "outputs": [
    {
     "data": {
      "text/plain": [
       "37.0"
      ]
     },
     "execution_count": 500,
     "metadata": {},
     "output_type": "execute_result"
    }
   ],
   "source": [
    "(opti.value(R_a) - opti.value(R_b) - params['R_f'])*opti.value(vz)/params['v']"
   ]
  },
  {
   "cell_type": "code",
   "execution_count": 501,
   "metadata": {},
   "outputs": [
    {
     "name": "stdout",
     "output_type": "stream",
     "text": [
      "130.1054603154035\n",
      "14.4060450748354\n"
     ]
    }
   ],
   "source": [
    "print(opti.value(R_a))\n",
    "print(opti.value(R_b))"
   ]
  },
  {
   "cell_type": "code",
   "execution_count": 502,
   "metadata": {},
   "outputs": [
    {
     "data": {
      "text/plain": [
       "4.000000039997541"
      ]
     },
     "execution_count": 502,
     "metadata": {},
     "output_type": "execute_result"
    }
   ],
   "source": [
    "opti.value(vz)"
   ]
  }
 ],
 "metadata": {
  "kernelspec": {
   "display_name": "Python 3",
   "language": "python",
   "name": "python3"
  },
  "language_info": {
   "codemirror_mode": {
    "name": "ipython",
    "version": 3
   },
   "file_extension": ".py",
   "mimetype": "text/x-python",
   "name": "python",
   "nbconvert_exporter": "python",
   "pygments_lexer": "ipython3",
   "version": "3.7.2"
  }
 },
 "nbformat": 4,
 "nbformat_minor": 2
}
