{
 "cells": [
  {
   "cell_type": "code",
   "execution_count": 1,
   "metadata": {},
   "outputs": [],
   "source": [
    "import matplotlib.pyplot as plt\n",
    "import matplotlib.patches as patches\n",
    "import matplotlib.transforms as transforms\n",
    "import numpy as np\n",
    "import casadi as ca"
   ]
  },
  {
   "cell_type": "code",
   "execution_count": 2,
   "metadata": {},
   "outputs": [],
   "source": [
    "from lib.control import *"
   ]
  },
  {
   "cell_type": "code",
   "execution_count": 3,
   "metadata": {},
   "outputs": [],
   "source": [
    "def xy_heading(pos1, pos2):\n",
    "    diff = pos2 - pos1\n",
    "    return wrap_angle_360(np.degrees(np.arctan2(diff[1], diff[0])))"
   ]
  },
  {
   "cell_type": "code",
   "execution_count": 4,
   "metadata": {},
   "outputs": [],
   "source": [
    "def wrap_angle_360(angle):\n",
    "    if angle < 0:\n",
    "        angle += 360\n",
    "    return angle % 360"
   ]
  },
  {
   "cell_type": "code",
   "execution_count": 5,
   "metadata": {},
   "outputs": [],
   "source": [
    "class LandingArea:\n",
    "    def __init__(\n",
    "        self,\n",
    "        origin=[0, 0],\n",
    "        width=10,\n",
    "        height=10,\n",
    "        rot=0,\n",
    "        wind_spd=0,\n",
    "        wind_dir=0,\n",
    "        airspeed=14,\n",
    "        flare_sink=.25,\n",
    "        max_sink=3,\n",
    "        init_h=40,\n",
    "        flare_h=3,\n",
    "        safety_h=0\n",
    "    ):\n",
    "        self.origin = np.array(origin)\n",
    "        self.width = width\n",
    "        self.height = height\n",
    "        self.rot = rot\n",
    "        self.wind_spd = wind_spd\n",
    "        self.wind_dir = wind_dir\n",
    "        self.airspeed=airspeed\n",
    "        self.flare_sink = flare_sink\n",
    "        self.max_sink = max_sink\n",
    "        self.init_h = init_h\n",
    "        self.flare_h = flare_h\n",
    "        self.safety_h = safety_h\n",
    "        \n",
    "        rot_rad = np.radians(rot)\n",
    "        self.width_dir = np.array([np.cos(rot_rad), np.sin(rot_rad)])\n",
    "        self.height_dir = np.array([-np.sin(rot_rad), np.cos(rot_rad)])\n",
    "        self.center = self.origin + self.width/2*self.width_dir\n",
    "        self.center += self.height/2*self.height_dir\n",
    "        \n",
    "        origin_hdg = xy_heading(self.origin, self.center)\n",
    "        h_corner = self.origin + self.height*self.height_dir\n",
    "        h_corner_hdg = xy_heading(h_corner, self.center)\n",
    "        if h_corner_hdg > origin_hdg:\n",
    "            self.h_hdg_interval = [origin_hdg, h_corner_hdg]\n",
    "        else:\n",
    "            self.h_hdg_interval = [h_corner_hdg, origin_hdg]\n",
    "            \n",
    "        self.includes_360 = False\n",
    "        if self.h_hdg_interval[1] - self.h_hdg_interval[0] > 90:\n",
    "            self.includes_360 = True\n",
    "    \n",
    "    def _height_collision(self, hdg):\n",
    "        inv_hdg = wrap_angle_360(hdg+180)\n",
    "        interval = self.h_hdg_interval\n",
    "        if self.includes_360:\n",
    "            return (hdg < interval[0] or hdg > interval[1]) or (inv_hdg < interval[0] or inv_hdg > interval[1])\n",
    "        else:\n",
    "            return (hdg > interval[0] and hdg < interval[1]) or (inv_hdg > interval[0] and inv_hdg < interval[1])\n",
    "    \n",
    "    def _hdg_line(self, hdg):\n",
    "        hdg_rad = np.radians(hdg)\n",
    "        return [self.center, self.center + np.array([np.cos(hdg_rad), np.sin(hdg_rad)])]\n",
    "    \n",
    "    def _height_lines(self):\n",
    "        l1 = [\n",
    "            self.origin,\n",
    "            self.origin + self.height*self.height_dir\n",
    "        ]\n",
    "        l2 = [\n",
    "            self.origin + self.width*self.width_dir,\n",
    "            self.origin + self.width*self.width_dir + self.height*self.height_dir\n",
    "        ]\n",
    "        return l1, l2\n",
    "        \n",
    "    def _width_lines(self):\n",
    "        l1 = [\n",
    "            self.origin,\n",
    "            self.origin + self.width*self.width_dir\n",
    "        ]\n",
    "        l2 = [\n",
    "            self.origin + self.height*self.height_dir,\n",
    "            self.origin + self.width*self.width_dir + self.height*self.height_dir\n",
    "        ]\n",
    "        return l1, l2\n",
    "    \n",
    "    def _intersection(self, l1, l2):\n",
    "        pa, pb = l1\n",
    "        pc, pd = l2\n",
    "        \n",
    "        a1 = pb[1] - pa[1]\n",
    "        b1 = pa[0] - pb[0]\n",
    "        c1 = a1*pa[0] + b1*pa[1]\n",
    "        \n",
    "        a2 = pd[1] - pc[1]\n",
    "        b2 = pc[0] - pd[0]\n",
    "        c2 = a2*pc[0] + b2*pc[1]\n",
    "        \n",
    "        det = a1*b2 - b1*a2\n",
    "        if det == 0:\n",
    "            print(\"error: parallel lines!\")\n",
    "            return\n",
    "        x = (b2*c1 - b1*c2)/det\n",
    "        y = (a1*c2 - a2*c1)/det\n",
    "        return np.array([x, y])\n",
    "    \n",
    "    def plot(self, ax=None):\n",
    "        if ax is None:\n",
    "            _, ax = plt.subplots()\n",
    "        patch = patches.Rectangle(\n",
    "            (self.origin[0],self.origin[1]),\n",
    "            self.width,\n",
    "            self.height,\n",
    "            self.rot,\n",
    "            fill=False\n",
    "        )\n",
    "        ax.add_patch(patch)\n",
    "        ax.scatter(self.center[0], self.center[1])\n",
    "        ax.set_xlim([-20, 20])\n",
    "        ax.set_ylim([-20, 20])\n",
    "        ax.axis('equal')\n",
    "        \n",
    "    def plot_intersections(self, hdg, ax=None):\n",
    "        if ax is None:\n",
    "            _, ax = plt.subplots()\n",
    "        p1, p2 = self.intersection_points(hdg)\n",
    "        ax.scatter([p1[0], p2[0]], [p1[1], p2[1]], color='green')\n",
    "        \n",
    "    def groundspeed(self, hdg):\n",
    "        hdg_rad = np.radians(hdg)\n",
    "        wind_dir_rad = np.radians(self.wind_dir)\n",
    "        wca = -np.arcsin(self.wind_spd/self.airspeed*np.sin(wind_dir_rad - hdg_rad)) + hdg_rad\n",
    "        airspeed_vec = self.airspeed*np.array([np.cos(hdg), np.sin(hdg)])\n",
    "        wind_vec = self.wind_spd*np.array([np.cos(wind_dir_rad), np.sin(wind_dir_rad)])\n",
    "        return norm(airspeed_vec + wind_vec)\n",
    "    \n",
    "    def intersection_points(self, hdg):\n",
    "        if self._height_collision(hdg):\n",
    "            l1, l2 = self._height_lines()\n",
    "        else:\n",
    "            l1, l2 = self._width_lines()\n",
    "        hdg_line = self._hdg_line(hdg)\n",
    "        p1 = self._intersection(hdg_line, l1)\n",
    "        p2 = self._intersection(hdg_line, l2)\n",
    "        return p1, p2\n",
    "    \n",
    "    def feasible_heading(self, hdg):\n",
    "        v = self.groundspeed(hdg)\n",
    "        flare_dist = self.flare_h*v/self.flare_sink\n",
    "        print('flare dist: {}'.format(flare_dist))\n",
    "        approach_dist = (self.safety_h - self.flare_h)*v/self.max_sink\n",
    "        print('approach: {}'.format(approach_dist))\n",
    "        p1, p2 = self.intersection_points(hdg)\n",
    "        max_dist = norm(p1-p2)\n",
    "        print('total: {}'.format(flare_dist + approach_dist))\n",
    "        print('max: {}'.format(max_dist))\n",
    "        return flare_dist + approach_dist < max_dist\n",
    "    \n",
    "    def opti_params(self, hdg):\n",
    "        v = self.groundspeed(hdg)\n",
    "        p1, p2 = self.intersection_points(hdg)\n",
    "        h_s = self.safety_h - self.flare_h\n",
    "        h_0 = self.init_h - self.flare_h\n",
    "        R_flare = self.flare_h*v/self.flare_sink\n",
    "        R_c = norm(p1 - self.center)\n",
    "        v_z_max = self.max_sink\n",
    "        return {\n",
    "            'v': v,\n",
    "            'h_s': h_s,\n",
    "            'h_0': h_0,\n",
    "            'R_f': R_flare,\n",
    "            'R_c': R_c,\n",
    "            'v_z_max': v_z_max\n",
    "        }"
   ]
  },
  {
   "cell_type": "code",
   "execution_count": 15,
   "metadata": {},
   "outputs": [
    {
     "name": "stdout",
     "output_type": "stream",
     "text": [
      "flare dist: 108.53770180990244\n",
      "approach: -9.044808484158537\n",
      "total: 99.4928933257439\n",
      "max: 200.00000000000006\n",
      "True\n"
     ]
    },
    {
     "data": {
      "image/png": "[encoded data removed]",
      "text/plain": [
       "<Figure size 432x288 with 1 Axes>"
      ]
     },
     "metadata": {
      "needs_background": "light"
     },
     "output_type": "display_data"
    }
   ],
   "source": [
    "la = LandingArea(\n",
    "    origin=[-450, 0],\n",
    "    width=100,\n",
    "    height=200,\n",
    "    rot=30,\n",
    "    wind_spd=6,\n",
    "    wind_dir=270\n",
    ")\n",
    "_, ax = plt.subplots()\n",
    "hdg=90\n",
    "la.plot_intersections(hdg, ax)\n",
    "la.plot(ax)\n",
    "print(la.feasible_heading(hdg))"
   ]
  },
  {
   "cell_type": "code",
   "execution_count": 16,
   "metadata": {},
   "outputs": [],
   "source": [
    "params = la.opti_params(90)\n",
    "opti = ca.Opti()\n",
    "R_a = opti.variable()\n",
    "R_b = opti.variable()\n",
    "\n",
    "h_0 = 40\n",
    "V = params['v']\n",
    "h_dot_f = .25\n",
    "h_dot_f_r = .5\n",
    "t_f = 2\n",
    "\n",
    "h_dot = V*h_0/(R_a-R_b)\n",
    "h_f = t_f*h_dot\n",
    "\n",
    "slope = (h_0-h_f)/(R_a-R_b)\n",
    "R_f = ca.fmin(V*(h_f/h_dot_f), (R_a-R_b)/2)\n",
    "h_dot_r = V*(h_0-h_f+slope*500)/(R_a - R_b - R_f + 500)\n",
    "\n",
    "R_f_real = V*h_f/h_dot_f_r\n",
    "h_f_real = h_0 - h_dot_r/V*(R_a-R_b-R_f_real)\n",
    "\n",
    "opti.subject_to(R_a >= 0)\n",
    "opti.subject_to(R_b >= 0)\n",
    "opti.subject_to(h_dot_r <= 3)\n",
    "opti.subject_to(h_f <= 6)\n",
    "\n",
    "opti.set_initial(R_a, 100)\n",
    "opti.set_initial(R_b, 0)\n",
    "\n",
    "opti.minimize((R_b - params['R_c'])**2 + (h_f_real - h_f)**2)"
   ]
  },
  {
   "cell_type": "code",
   "execution_count": 17,
   "metadata": {
    "scrolled": true
   },
   "outputs": [
    {
     "name": "stdout",
     "output_type": "stream",
     "text": [
      "This is Ipopt version 3.12.3, running with linear solver mumps.\n",
      "NOTE: Other linear solvers might be more efficient (see Ipopt documentation).\n",
      "\n",
      "Number of nonzeros in equality constraint Jacobian...:        0\n",
      "Number of nonzeros in inequality constraint Jacobian.:        6\n",
      "Number of nonzeros in Lagrangian Hessian.............:        3\n",
      "\n",
      "Total number of variables............................:        2\n",
      "                     variables with only lower bounds:        0\n",
      "                variables with lower and upper bounds:        0\n",
      "                     variables with only upper bounds:        0\n",
      "Total number of equality constraints.................:        0\n",
      "Total number of inequality constraints...............:        4\n",
      "        inequality constraints with only lower bounds:        2\n",
      "   inequality constraints with lower and upper bounds:        0\n",
      "        inequality constraints with only upper bounds:        2\n",
      "\n",
      "iter    objective    inf_pr   inf_du lg(mu)  ||d||  lg(rg) alpha_du alpha_pr  ls\n",
      "   0  1.1919001e+04 1.24e+00 5.04e+01  -1.0 0.00e+00    -  0.00e+00 0.00e+00   0\n",
      "   1  1.0526772e+04 0.00e+00 1.54e+02  -1.0 2.42e+01    -  6.37e-03 1.00e+00f  1\n",
      "   2  3.6712743e+02 0.00e+00 8.34e+00  -1.0 1.23e+02    -  1.84e-02 1.00e+00f  1\n",
      "   3  1.3567263e+02 0.00e+00 3.52e+00  -1.0 3.09e+01    -  6.58e-01 1.00e+00f  1\n",
      "   4  3.9752590e+01 0.00e+00 1.31e+00  -1.0 3.26e+01    -  8.87e-01 1.00e+00f  1\n",
      "   5  1.1429689e+01 0.00e+00 2.54e-01  -1.0 3.11e+01    -  1.00e+00 1.00e+00f  1\n",
      "   6  4.5994095e+00 0.00e+00 9.73e-02  -1.7 3.32e+01    -  1.00e+00 1.00e+00f  1\n",
      "   7  1.7658908e+00 0.00e+00 3.69e-02  -2.5 3.60e+01    -  1.00e+00 1.00e+00f  1\n",
      "   8  6.3489537e-01 0.00e+00 1.38e-02  -2.5 3.80e+01    -  1.00e+00 1.00e+00f  1\n",
      "   9  2.0677296e-01 0.00e+00 5.01e-03  -2.5 3.88e+01    -  1.00e+00 1.00e+00f  1\n",
      "iter    objective    inf_pr   inf_du lg(mu)  ||d||  lg(rg) alpha_du alpha_pr  ls\n",
      "  10  5.7515367e-02 0.00e+00 1.75e-03  -3.8 3.76e+01    -  9.77e-01 1.00e+00h  1\n",
      "  11  1.2059834e-02 0.00e+00 5.63e-04  -3.8 3.33e+01    -  1.00e+00 1.00e+00h  1\n",
      "  12  1.4496925e-03 0.00e+00 1.51e-04  -3.8 2.50e+01    -  1.00e+00 1.00e+00h  1\n",
      "  13  5.0811297e-05 0.00e+00 2.51e-05  -3.8 1.31e+01    -  1.00e+00 1.00e+00h  1\n",
      "  14  1.1302740e-07 0.00e+00 1.13e-06  -5.7 3.13e+00    -  1.00e+00 1.00e+00h  1\n",
      "  15  6.7682166e-13 0.00e+00 2.73e-09  -5.7 1.58e-01    -  1.00e+00 1.00e+00h  1\n",
      "  16  4.9345139e-18 0.00e+00 2.51e-14  -8.6 3.85e-04    -  1.00e+00 1.00e+00h  1\n",
      "\n",
      "Number of Iterations....: 16\n",
      "\n",
      "                                   (scaled)                 (unscaled)\n",
      "Objective...............:   3.8784268175363532e-18    4.9345138815836646e-18\n",
      "Dual infeasibility......:   2.5059035640133008e-14    3.1882555748179228e-14\n",
      "Constraint violation....:   0.0000000000000000e+00    0.0000000000000000e+00\n",
      "Complementarity.........:   2.5070863599533675e-09    3.1897604434824414e-09\n",
      "Overall NLP error.......:   2.5070863599533675e-09    3.1897604434824414e-09\n",
      "\n",
      "\n",
      "Number of objective function evaluations             = 17\n",
      "Number of objective gradient evaluations             = 17\n",
      "Number of equality constraint evaluations            = 0\n",
      "Number of inequality constraint evaluations          = 17\n",
      "Number of equality constraint Jacobian evaluations   = 0\n",
      "Number of inequality constraint Jacobian evaluations = 17\n",
      "Number of Lagrangian Hessian evaluations             = 16\n",
      "Total CPU secs in IPOPT (w/o function evaluations)   =      0.012\n",
      "Total CPU secs in NLP function evaluations           =      0.001\n",
      "\n",
      "EXIT: Optimal Solution Found.\n",
      "               t_proc [s]   t_wall [s]    n_eval\n",
      "       nlp_f      6.9e-05      7.5e-05        17\n",
      "       nlp_g     0.000111      9.5e-05        17\n",
      "  nlp_grad_f      0.00025     0.000122        18\n",
      "  nlp_hess_l     0.000201      0.00021        16\n",
      "   nlp_jac_g     0.000142     0.000129        18\n",
      "      solver       0.0175       0.0153         1\n"
     ]
    }
   ],
   "source": [
    "opti.solver('ipopt')\n",
    "sol = opti.solve()"
   ]
  },
  {
   "cell_type": "code",
   "execution_count": 302,
   "metadata": {},
   "outputs": [
    {
     "data": {
      "text/plain": [
       "134.52188302932018"
      ]
     },
     "execution_count": 302,
     "metadata": {},
     "output_type": "execute_result"
    }
   ],
   "source": [
    "opti.value(R_f)"
   ]
  },
  {
   "cell_type": "code",
   "execution_count": null,
   "metadata": {},
   "outputs": [],
   "source": []
  },
  {
   "cell_type": "code",
   "execution_count": 309,
   "metadata": {},
   "outputs": [
    {
     "data": {
      "text/plain": [
       "12.613833862669162"
      ]
     },
     "execution_count": 309,
     "metadata": {},
     "output_type": "execute_result"
    }
   ],
   "source": [
    "opti.value((h_f_real-h_f))"
   ]
  },
  {
   "cell_type": "code",
   "execution_count": 304,
   "metadata": {},
   "outputs": [
    {
     "data": {
      "text/plain": [
       "3.7408124458927494"
      ]
     },
     "execution_count": 304,
     "metadata": {},
     "output_type": "execute_result"
    }
   ],
   "source": [
    "opti.value(h_f)"
   ]
  },
  {
   "cell_type": "code",
   "execution_count": 314,
   "metadata": {},
   "outputs": [
    {
     "data": {
      "text/plain": [
       "247.97951441969678"
      ]
     },
     "execution_count": 314,
     "metadata": {},
     "output_type": "execute_result"
    }
   ],
   "source": [
    "opti.value(R_a)"
   ]
  },
  {
   "cell_type": "code",
   "execution_count": 315,
   "metadata": {},
   "outputs": [
    {
     "data": {
      "text/plain": [
       "25.000000000055145"
      ]
     },
     "execution_count": 315,
     "metadata": {},
     "output_type": "execute_result"
    }
   ],
   "source": [
    "opti.value(R_b)"
   ]
  },
  {
   "cell_type": "code",
   "execution_count": 316,
   "metadata": {},
   "outputs": [
    {
     "data": {
      "text/plain": [
       "1.8940525775964427"
      ]
     },
     "execution_count": 316,
     "metadata": {},
     "output_type": "execute_result"
    }
   ],
   "source": [
    "opti.value(h_dot_r)"
   ]
  },
  {
   "cell_type": "code",
   "execution_count": 299,
   "metadata": {},
   "outputs": [
    {
     "data": {
      "text/plain": [
       "12.550260985576797"
      ]
     },
     "execution_count": 299,
     "metadata": {},
     "output_type": "execute_result"
    }
   ],
   "source": [
    "opti.value(params['R_c']-R_b)"
   ]
  }
 ],
 "metadata": {
  "kernelspec": {
   "display_name": "Python 3",
   "language": "python",
   "name": "python3"
  },
  "language_info": {
   "codemirror_mode": {
    "name": "ipython",
    "version": 3
   },
   "file_extension": ".py",
   "mimetype": "text/x-python",
   "name": "python",
   "nbconvert_exporter": "python",
   "pygments_lexer": "ipython3",
   "version": "3.7.2"
  }
 },
 "nbformat": 4,
 "nbformat_minor": 2
}
